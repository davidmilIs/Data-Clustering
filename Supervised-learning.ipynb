{
 "cells": [
  {
   "cell_type": "code",
   "execution_count": 2,
   "metadata": {},
   "outputs": [],
   "source": [
    "%run datasets.py"
   ]
  },
  {
   "cell_type": "markdown",
   "metadata": {},
   "source": [
    "## k-Nearest Neighbors : Classification"
   ]
  },
  {
   "cell_type": "code",
   "execution_count": 3,
   "metadata": {},
   "outputs": [
    {
     "name": "stdout",
     "output_type": "stream",
     "text": [
      "First 5 rows of X\n",
      "[[  9.96346605   4.59676542]\n",
      " [ 11.0329545   -0.16816717]\n",
      " [ 11.54155807   5.21116083]\n",
      " [  8.69289001   1.54322016]\n",
      " [  8.1062269    4.28695977]]\n",
      "First 5 rows of y\n",
      "[1 0 1 0 0]\n",
      "There are 26 elements in X.\n"
     ]
    }
   ],
   "source": [
    "#The dataset we are using is a set of points which have either the label 0 or 1.\n",
    "X, y = make_forge()\n",
    "print(\"First 5 rows of X\")\n",
    "print(X[:5]) # first 5 elements\n",
    "print(\"First 5 rows of y\")\n",
    "print(y[:5]) # first 5 elements\n",
    "print(\"There are\", len(X), \"elements in X.\") "
   ]
  },
  {
   "cell_type": "code",
   "execution_count": 4,
   "metadata": {},
   "outputs": [
    {
     "data": {
      "text/plain": [
       "<matplotlib.figure.Figure at 0xe862a70>"
      ]
     },
     "metadata": {},
     "output_type": "display_data"
    }
   ],
   "source": [
    "import matplotlib.pyplot as plt\n",
    "\n",
    "# y contains either 0 or 1 for each point\n",
    "plt.scatter(X[:,0], X[:,1], c=y)\n",
    "plt.show()"
   ]
  },
  {
   "cell_type": "markdown",
   "metadata": {},
   "source": [
    "### Learning a Model"
   ]
  },
  {
   "cell_type": "code",
   "execution_count": 5,
   "metadata": {},
   "outputs": [],
   "source": [
    "from sklearn.model_selection import train_test_split\n",
    "from sklearn.neighbors import KNeighborsClassifier\n",
    "\n",
    "#separating our dataset into a training and a test part\n",
    "X_train, X_test, y_train, y_test = train_test_split(X, y, random_state = 0)\n",
    "\n",
    "#Kn model\n",
    "model = KNeighborsClassifier(n_neighbors=3)"
   ]
  },
  {
   "cell_type": "code",
   "execution_count": 6,
   "metadata": {},
   "outputs": [
    {
     "name": "stdout",
     "output_type": "stream",
     "text": [
      "Accuracy = 0.857142857143\n",
      "# Misclassified points = 1.0\n"
     ]
    }
   ],
   "source": [
    "# training\n",
    "model.fit(X_train, y_train)\n",
    "\n",
    "# evaluation\n",
    "accuracy  = model.score(X_test, y_test)\n",
    "print(\"Accuracy =\", accuracy)\n",
    "print(\"# Misclassified points =\", (1 - accuracy) * len(X_test))"
   ]
  },
  {
   "cell_type": "markdown",
   "metadata": {},
   "source": [
    "We have an accuracy of 85.7%."
   ]
  },
  {
   "cell_type": "code",
   "execution_count": 12,
   "metadata": {
    "scrolled": false
   },
   "outputs": [
    {
     "data": {
      "image/png": "[encoded data removed]",
      "text/plain": [
       "<matplotlib.figure.Figure at 0xefa9350>"
      ]
     },
     "metadata": {},
     "output_type": "display_data"
    }
   ],
   "source": [
    "#Boundary\n",
    "\n",
    "%run plots.py\n",
    "plot_2d_separator(model, X, y, fill=True, eps=0.5, alpha=0.4)\n",
    "plt.title(\"Decision boundary when k=3\")\n",
    "plt.show()\n"
   ]
  },
  {
   "cell_type": "markdown",
   "metadata": {},
   "source": [
    "### Real Dataset"
   ]
  },
  {
   "cell_type": "code",
   "execution_count": 21,
   "metadata": {},
   "outputs": [
    {
     "name": "stdout",
     "output_type": "stream",
     "text": [
      "dict_keys(['feature_names', 'target', 'DESCR', 'data', 'target_names'])\n"
     ]
    }
   ],
   "source": [
    "\n",
    "from sklearn.datasets import load_breast_cancer\n",
    "cancer = load_breast_cancer()\n",
    "#print(cancer.DESCR) \n",
    "print(cancer.keys())"
   ]
  },
  {
   "cell_type": "code",
   "execution_count": 22,
   "metadata": {},
   "outputs": [
    {
     "name": "stdout",
     "output_type": "stream",
     "text": [
      "(569, 30)\n"
     ]
    }
   ],
   "source": [
    "print(cancer.data.shape)\n",
    "\n",
    "X_train, X_test, y_train, y_test = train_test_split(cancer.data, cancer.target, random_state = 0)"
   ]
  },
  {
   "cell_type": "code",
   "execution_count": 23,
   "metadata": {},
   "outputs": [
    {
     "name": "stdout",
     "output_type": "stream",
     "text": [
      "Accuracy on breast cancer = 0.923076923077\n"
     ]
    }
   ],
   "source": [
    "model_breast = KNeighborsClassifier(n_neighbors=6)\n",
    "model_breast.fit(X_train, y_train)\n",
    "\n",
    "\n",
    "accuracy_breast = model_breast.score(X_test, y_test)\n",
    "print(\"Accuracy on breast cancer =\", accuracy_breast)"
   ]
  },
  {
   "cell_type": "markdown",
   "metadata": {},
   "source": [
    "## k-Nearest Neighbors : Regression"
   ]
  },
  {
   "cell_type": "code",
   "execution_count": 16,
   "metadata": {},
   "outputs": [],
   "source": [
    "X, y = make_wave(40)"
   ]
  },
  {
   "cell_type": "code",
   "execution_count": 17,
   "metadata": {},
   "outputs": [
    {
     "data": {
      "image/png": "[encoded data removed]",
      "text/plain": [
       "<matplotlib.figure.Figure at 0xef96550>"
      ]
     },
     "metadata": {},
     "output_type": "display_data"
    }
   ],
   "source": [
    "plt.scatter(X, y)\n",
    "plt.xticks(X, \" \")\n",
    "plt.show()"
   ]
  },
  {
   "cell_type": "code",
   "execution_count": 18,
   "metadata": {},
   "outputs": [
    {
     "name": "stdout",
     "output_type": "stream",
     "text": [
      "Accuracy (k=2) 0.655749187554\n",
      "Accuracy (k=3) 0.834417244625\n",
      "Accuracy (k=4) 0.770418901846\n",
      "Accuracy (k=5) 0.707138114401\n",
      "Accuracy (k=7) 0.675213458768\n",
      "Best accuracy achieved when k=3\n"
     ]
    }
   ],
   "source": [
    "from sklearn.neighbors import KNeighborsRegressor\n",
    "\n",
    "# create train + test data\n",
    "X_train, X_test, y_train, y_test = train_test_split(X, y, random_state = 0)\n",
    "\n",
    "# create regression models, train and evaluate\n",
    "regmodel_2 = KNeighborsRegressor(n_neighbors=2)\n",
    "regmodel_2.fit(X_train, y_train)\n",
    "print(\"Accuracy (k=2)\", regmodel_2.score(X_test, y_test))\n",
    "\n",
    "regmodel_3 = KNeighborsRegressor(n_neighbors=3)\n",
    "regmodel_3.fit(X_train, y_train)\n",
    "print(\"Accuracy (k=3)\", regmodel_3.score(X_test, y_test))\n",
    "\n",
    "regmodel_4 = KNeighborsRegressor(n_neighbors=4)\n",
    "regmodel_4.fit(X_train, y_train)\n",
    "print(\"Accuracy (k=4)\", regmodel_4.score(X_test, y_test))\n",
    "\n",
    "regmodel_5 = KNeighborsRegressor(n_neighbors=5)\n",
    "regmodel_5.fit(X_train, y_train)\n",
    "print(\"Accuracy (k=5)\", regmodel_5.score(X_test, y_test))\n",
    "\n",
    "regmodel_7 = KNeighborsRegressor(n_neighbors=7)\n",
    "regmodel_7.fit(X_train, y_train)\n",
    "print(\"Accuracy (k=7)\", regmodel_7.score(X_test, y_test))\n",
    "\n",
    "print(\"Best accuracy achieved when k=3\")"
   ]
  },
  {
   "cell_type": "markdown",
   "metadata": {},
   "source": [
    "## Linear models"
   ]
  },
  {
   "cell_type": "markdown",
   "metadata": {},
   "source": [
    "Linear models are mostly used to do regression (predicting a value given a set of features). The predicted value $\\hat{y}$ can be written as follows:\n",
    "\n",
    "\\begin{equation*}\n",
    "\\hat{y} = \\sum_{k=1}^n w_k \\times x_k + b\n",
    "\\end{equation*}\n",
    "\n",
    "where $x_k$ are the features of the data points, $w_k$ and $b$ are the parameters learned by the linear model."
   ]
  },
  {
   "cell_type": "markdown",
   "metadata": {},
   "source": [
    "### Ordinary Least Squares"
   ]
  },
  {
   "cell_type": "markdown",
   "metadata": {},
   "source": [
    "Ordinary Least Squares is the most classic linear method for regression. This model finds the $w$ and $b$ parameters that minimize the **mean squared error (MSE)** between predictions and the true value for the $m$ points in training dataset.\n",
    "    \n",
    "\\begin{equation*}\n",
    "MSE = {1 \\over {m}} \\sum_{k=1}^m (\\hat{y}-y)^2\n",
    "\\end{equation*}"
   ]
  },
  {
   "cell_type": "code",
   "execution_count": 24,
   "metadata": {},
   "outputs": [
    {
     "name": "stdout",
     "output_type": "stream",
     "text": [
      "X has 80 points.\n"
     ]
    }
   ],
   "source": [
    "X, y = make_wave(n_samples=80)\n",
    "print(\"X has\", len(X), \"points.\")\n",
    "X_train, X_test, y_train, y_test = train_test_split(X, y, random_state = 0)"
   ]
  },
  {
   "cell_type": "code",
   "execution_count": 26,
   "metadata": {},
   "outputs": [
    {
     "data": {
      "text/plain": [
       "LinearRegression(copy_X=True, fit_intercept=True, n_jobs=1, normalize=False)"
      ]
     },
     "execution_count": 26,
     "metadata": {},
     "output_type": "execute_result"
    }
   ],
   "source": [
    "from sklearn.linear_model import LinearRegression\n",
    "# create model and train it\n",
    "model = LinearRegression()\n",
    "model.fit(X_train, y_train)"
   ]
  },
  {
   "cell_type": "code",
   "execution_count": 27,
   "metadata": {},
   "outputs": [
    {
     "name": "stdout",
     "output_type": "stream",
     "text": [
      "Learned w: [ 0.53507564]\n",
      "Learned b: 0.0837943622218\n"
     ]
    }
   ],
   "source": [
    "print(\"Learned w:\", model.coef_)\n",
    "print(\"Learned b:\", model.intercept_)\n",
    "#The learned $w$ are in the coef_ attribute while the learned b are in the intercept_ attribute. \n",
    "#Since our data only has one feature, we only have one w."
   ]
  },
  {
   "cell_type": "code",
   "execution_count": 29,
   "metadata": {},
   "outputs": [
    {
     "name": "stdout",
     "output_type": "stream",
     "text": [
      "Model prediction = [ 1.59137414]\n",
      "Hand computed prediction = [ 1.59137414]\n",
      "Correct output = 1.05624279582\n"
     ]
    }
   ],
   "source": [
    "\n",
    "print(\"Model prediction =\", model.predict([X_test[0]]))\n",
    "print(\"Hand computed prediction =\", model.coef_[0] * X_test[0] + model.intercept_)\n",
    "print(\"Correct output =\", y_test[0])"
   ]
  },
  {
   "cell_type": "markdown",
   "metadata": {},
   "source": [
    "### Real Dataset"
   ]
  },
  {
   "cell_type": "code",
   "execution_count": 30,
   "metadata": {},
   "outputs": [],
   "source": [
    "#We are going to predict the price of houses. \n",
    "#The data come from the housing market in Boston. We have 506 data points, and each one has 104 features"
   ]
  },
  {
   "cell_type": "code",
   "execution_count": null,
   "metadata": {},
   "outputs": [],
   "source": []
  },
  {
   "cell_type": "code",
   "execution_count": null,
   "metadata": {},
   "outputs": [],
   "source": []
  }
 ],
 "metadata": {
  "kernelspec": {
   "display_name": "Python 3",
   "language": "python",
   "name": "python3"
  },
  "language_info": {
   "codemirror_mode": {
    "name": "ipython",
    "version": 3
   },
   "file_extension": ".py",
   "mimetype": "text/x-python",
   "name": "python",
   "nbconvert_exporter": "python",
   "pygments_lexer": "ipython3",
   "version": "3.5.2"
  }
 },
 "nbformat": 4,
 "nbformat_minor": 2
}
